{
 "cells": [
  {
   "cell_type": "code",
   "execution_count": 1,
   "id": "94e21d20",
   "metadata": {},
   "outputs": [],
   "source": [
    "import nltk\n",
    "import numpy as np\n",
    "from sklearn.feature_extraction.text import TfidfVectorizer\n",
    "from sklearn.metrics.pairwise import cosine_similarity\n",
    "import random\n",
    "import string\n",
    "import warnings\n",
    "warnings.filterwarnings('ignore')"
   ]
  },
  {
   "cell_type": "code",
   "execution_count": 2,
   "id": "d8d2aee0",
   "metadata": {},
   "outputs": [],
   "source": [
    "with open('chatbot.txt', 'r') as file:\n",
    "    raw_chat = file.read().lower()"
   ]
  },
  {
   "cell_type": "code",
   "execution_count": 3,
   "id": "a012ae74",
   "metadata": {},
   "outputs": [],
   "source": [
    "sentence_tokens = nltk.sent_tokenize(raw_chat)"
   ]
  },
  {
   "cell_type": "code",
   "execution_count": 4,
   "id": "7e0c10b0",
   "metadata": {},
   "outputs": [],
   "source": [
    "word_tokens = nltk.word_tokenize(raw_chat)"
   ]
  },
  {
   "cell_type": "code",
   "execution_count": 5,
   "id": "37ffa9e1",
   "metadata": {},
   "outputs": [],
   "source": [
    "lemmatizer = nltk.stem.WordNetLemmatizer()"
   ]
  },
  {
   "cell_type": "code",
   "execution_count": 6,
   "id": "5d1fab35",
   "metadata": {},
   "outputs": [],
   "source": [
    "def lemTokens(tokens):\n",
    "    return [lemmatizer.lemmatize(token) for token in tokens]\n",
    "\n",
    "remove_punctuation = dict((ord(p), None) for p in string.punctuation)\n",
    "\n",
    "def lemNormalize(text):\n",
    "    return lemTokens(nltk.word_tokenize(text.lower().translate(remove_punctuation)))"
   ]
  },
  {
   "cell_type": "code",
   "execution_count": 7,
   "id": "842b8a8b",
   "metadata": {},
   "outputs": [],
   "source": [
    "greeting_input = (\"hello\", \"hi\", \"greetings\", \"sup\", \"what's up\", \"hey\",)\n",
    "greeting_output = ['hi', 'hey', 'hi there', 'hello', 'hi, how are you?']\n",
    "\n",
    "def greeting(sentence):\n",
    "    for word in sentence.split():\n",
    "        if word.lower() in greeting_input:\n",
    "            return random.choice(greeting_output)\n"
   ]
  },
  {
   "cell_type": "code",
   "execution_count": 8,
   "id": "7465204c",
   "metadata": {},
   "outputs": [],
   "source": [
    "def response(request):\n",
    "    bot_response = ''\n",
    "    sentence_tokens.append(request)\n",
    "    tfidf_vectorizer = TfidfVectorizer(tokenizer=lemNormalize, stop_words='english')\n",
    "    tfidf = tfidf_vectorizer.fit_transform(sentence_tokens)\n",
    "    vals = cosine_similarity(tfidf[-1], tfidf)\n",
    "    idx = vals.argsort()[0][-2]\n",
    "    flat = vals.flatten()\n",
    "    flat.sort()\n",
    "    req_tfidf = flat[-2]\n",
    "    if (req_tfidf==0):\n",
    "        bot_response += \"I don't understand, I'm sorry!\"\n",
    "    else:\n",
    "        bot_response += sentence_tokens[idx]        \n",
    "    return bot_response"
   ]
  },
  {
   "cell_type": "code",
   "execution_count": 9,
   "id": "81b1f713",
   "metadata": {},
   "outputs": [
    {
     "name": "stdout",
     "output_type": "stream",
     "text": [
      "Chatbot Online\n",
      "\n",
      "> Hi\n",
      "Bot:  hi, how are you?\n",
      "> what are chatbots\n",
      "Bot: in 2016, facebook messenger allowed developers to place chatbots on their platform.\n",
      "> who named chatbots\n",
      "Bot: overstock.com, for one, has reportedly launched a chatbot named mila to automate certain simple yet time-consuming processes when requesting for a sick leave.other large companies such as lloyds banking group, royal bank of scotland, renault and citroã«n are now using automated online assistants instead of call centres with humans to provide a first point of contact.\n",
      "> who is Alan Turing\n",
      "Bot: background\n",
      "in 1950, alan turing's famous article \"computing machinery and intelligence\" was published, which proposed what is now called the turing test as a criterion of intelligence.\n",
      "> are you alive\n",
      "Bot: I don't understand, I'm sorry!\n",
      "> thanks\n",
      "Bot: You are welcome!\n"
     ]
    }
   ],
   "source": [
    "print('Chatbot Online\\n')\n",
    "while True:\n",
    "    user = str(input('> ')).lower()\n",
    "    if user == 'bye' or user == 'exit' or user == 'thanks' or user == 'thank you':\n",
    "        print('Bot: You are welcome!')\n",
    "        break\n",
    "    else:\n",
    "        if greeting(user) != None:\n",
    "            print('Bot: ', greeting(user))\n",
    "        else:\n",
    "            print('Bot: ', end='')\n",
    "            print(response(user))\n",
    "            sentence_tokens.remove(user)"
   ]
  }
 ],
 "metadata": {
  "kernelspec": {
   "display_name": "Python 3 (ipykernel)",
   "language": "python",
   "name": "python3"
  },
  "language_info": {
   "codemirror_mode": {
    "name": "ipython",
    "version": 3
   },
   "file_extension": ".py",
   "mimetype": "text/x-python",
   "name": "python",
   "nbconvert_exporter": "python",
   "pygments_lexer": "ipython3",
   "version": "3.8.3"
  }
 },
 "nbformat": 4,
 "nbformat_minor": 5
}
